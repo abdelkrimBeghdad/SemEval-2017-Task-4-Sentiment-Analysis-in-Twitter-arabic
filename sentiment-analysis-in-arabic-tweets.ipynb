{
 "cells": [
  {
   "cell_type": "markdown",
   "id": "88d141b2",
   "metadata": {
    "papermill": {
     "duration": 0.039198,
     "end_time": "2021-08-31T15:11:24.745429",
     "exception": false,
     "start_time": "2021-08-31T15:11:24.706231",
     "status": "completed"
    },
    "tags": []
   },
   "source": [
    "# SemEval-2017 Task 4: Sentiment Analysis in Twitter arabic\n"
   ]
  },
  {
   "cell_type": "code",
   "execution_count": 1,
   "id": "b435bffe",
   "metadata": {
    "_cell_guid": "b1076dfc-b9ad-4769-8c92-a6c4dae69d19",
    "_uuid": "8f2839f25d086af736a60e9eeb907d3b93b6e0e5",
    "execution": {
     "iopub.execute_input": "2021-08-31T15:11:24.827425Z",
     "iopub.status.busy": "2021-08-31T15:11:24.826290Z",
     "iopub.status.idle": "2021-08-31T15:11:26.712004Z",
     "shell.execute_reply": "2021-08-31T15:11:26.712483Z",
     "shell.execute_reply.started": "2021-08-31T15:10:28.744447Z"
    },
    "papermill": {
     "duration": 1.928747,
     "end_time": "2021-08-31T15:11:26.712765",
     "exception": false,
     "start_time": "2021-08-31T15:11:24.784018",
     "status": "completed"
    },
    "tags": []
   },
   "outputs": [
    {
     "name": "stdout",
     "output_type": "stream",
     "text": [
      "[nltk_data] Downloading package stopwords to /usr/share/nltk_data...\n",
      "[nltk_data]   Package stopwords is already up-to-date!\n"
     ]
    }
   ],
   "source": [
    "import os\n",
    "import random\n",
    "import numpy as np\n",
    "import pandas as pd\n",
    "import re\n",
    "import matplotlib.pyplot as plt\n",
    "import seaborn as sns \n",
    "import matplotlib.cm as cm\n",
    "from matplotlib import rcParams\n",
    "from prettytable import PrettyTable\n",
    "import nltk \n",
    "nltk.download('stopwords')\n",
    "from nltk.corpus import stopwords\n",
    "from nltk.tokenize import word_tokenize\n",
    "from nltk.tokenize import RegexpTokenizer\n",
    "from nltk.stem.isri import ISRIStemmer\n",
    "from collections import Counter \n",
    "import itertools\n",
    "import string\n",
    "from sklearn.feature_extraction.text import TfidfVectorizer\n",
    "from sklearn import preprocessing\n",
    "from sklearn.model_selection import train_test_split\n",
    "from sklearn.pipeline import Pipeline\n",
    "from sklearn.svm import SVC\n",
    "from sklearn.metrics import confusion_matrix\n",
    "from sklearn.metrics import accuracy_score, precision_recall_fscore_support\n",
    "\n",
    "from joblib import dump, load"
   ]
  },
  {
   "cell_type": "markdown",
   "id": "bd4509c6",
   "metadata": {
    "papermill": {
     "duration": 0.038797,
     "end_time": "2021-08-31T15:11:26.789731",
     "exception": false,
     "start_time": "2021-08-31T15:11:26.750934",
     "status": "completed"
    },
    "tags": []
   },
   "source": [
    "# **Get data**"
   ]
  },
  {
   "cell_type": "code",
   "execution_count": 2,
   "id": "ccc4f9ad",
   "metadata": {
    "execution": {
     "iopub.execute_input": "2021-08-31T15:11:26.870310Z",
     "iopub.status.busy": "2021-08-31T15:11:26.869290Z",
     "iopub.status.idle": "2021-08-31T15:11:26.999496Z",
     "shell.execute_reply": "2021-08-31T15:11:27.000015Z",
     "shell.execute_reply.started": "2021-08-31T15:10:29.499874Z"
    },
    "papermill": {
     "duration": 0.172303,
     "end_time": "2021-08-31T15:11:27.000190",
     "exception": false,
     "start_time": "2021-08-31T15:11:26.827887",
     "status": "completed"
    },
    "tags": []
   },
   "outputs": [
    {
     "data": {
      "text/html": [
       "<div>\n",
       "<style scoped>\n",
       "    .dataframe tbody tr th:only-of-type {\n",
       "        vertical-align: middle;\n",
       "    }\n",
       "\n",
       "    .dataframe tbody tr th {\n",
       "        vertical-align: top;\n",
       "    }\n",
       "\n",
       "    .dataframe thead th {\n",
       "        text-align: right;\n",
       "    }\n",
       "</style>\n",
       "<table border=\"1\" class=\"dataframe\">\n",
       "  <thead>\n",
       "    <tr style=\"text-align: right;\">\n",
       "      <th></th>\n",
       "      <th>sentiment</th>\n",
       "      <th>tweet</th>\n",
       "    </tr>\n",
       "  </thead>\n",
       "  <tbody>\n",
       "    <tr>\n",
       "      <th>0</th>\n",
       "      <td>positive</td>\n",
       "      <td>إجبار أبل على التعاون على فك شفرة اجهزتها http...</td>\n",
       "    </tr>\n",
       "    <tr>\n",
       "      <th>1</th>\n",
       "      <td>positive</td>\n",
       "      <td>RT @20fourMedia: #غوغل تتحدى أبل وأمازون بأجهز...</td>\n",
       "    </tr>\n",
       "    <tr>\n",
       "      <th>2</th>\n",
       "      <td>positive</td>\n",
       "      <td>جوجل تنافس أبل وسامسونج بهاتف جديد https://t.c...</td>\n",
       "    </tr>\n",
       "    <tr>\n",
       "      <th>3</th>\n",
       "      <td>positive</td>\n",
       "      <td>رئيس شركة أبل: الواقع المعزز سيصبح أهم من الطع...</td>\n",
       "    </tr>\n",
       "    <tr>\n",
       "      <th>4</th>\n",
       "      <td>neutral</td>\n",
       "      <td>ساعة أبل في الأسواق مرة أخرى https://t.co/dY2x...</td>\n",
       "    </tr>\n",
       "    <tr>\n",
       "      <th>...</th>\n",
       "      <td>...</td>\n",
       "      <td>...</td>\n",
       "    </tr>\n",
       "    <tr>\n",
       "      <th>3348</th>\n",
       "      <td>positive</td>\n",
       "      <td>طريقة تعطيل اي زر في لوحة المفاتيح على نظام وي...</td>\n",
       "    </tr>\n",
       "    <tr>\n",
       "      <th>3349</th>\n",
       "      <td>neutral</td>\n",
       "      <td>RT @syst__em: إطلاق تحديث تراكمي برقم 14393.32...</td>\n",
       "    </tr>\n",
       "    <tr>\n",
       "      <th>3350</th>\n",
       "      <td>neutral</td>\n",
       "      <td>4 طرق لحذف الملفات المستعصية من الحذف في ويندو...</td>\n",
       "    </tr>\n",
       "    <tr>\n",
       "      <th>3351</th>\n",
       "      <td>neutral</td>\n",
       "      <td>شرح فيديو مهم جدا حل لمشاكل الكومبيوتر كيف تقو...</td>\n",
       "    </tr>\n",
       "    <tr>\n",
       "      <th>3352</th>\n",
       "      <td>neutral</td>\n",
       "      <td>صورة مسربة لـ ويندوز فون 10 توضح شكل الأيقونات...</td>\n",
       "    </tr>\n",
       "  </tbody>\n",
       "</table>\n",
       "<p>3353 rows × 2 columns</p>\n",
       "</div>"
      ],
      "text/plain": [
       "     sentiment                                              tweet\n",
       "0     positive  إجبار أبل على التعاون على فك شفرة اجهزتها http...\n",
       "1     positive  RT @20fourMedia: #غوغل تتحدى أبل وأمازون بأجهز...\n",
       "2     positive  جوجل تنافس أبل وسامسونج بهاتف جديد https://t.c...\n",
       "3     positive  رئيس شركة أبل: الواقع المعزز سيصبح أهم من الطع...\n",
       "4      neutral  ساعة أبل في الأسواق مرة أخرى https://t.co/dY2x...\n",
       "...        ...                                                ...\n",
       "3348  positive  طريقة تعطيل اي زر في لوحة المفاتيح على نظام وي...\n",
       "3349   neutral  RT @syst__em: إطلاق تحديث تراكمي برقم 14393.32...\n",
       "3350   neutral  4 طرق لحذف الملفات المستعصية من الحذف في ويندو...\n",
       "3351   neutral  شرح فيديو مهم جدا حل لمشاكل الكومبيوتر كيف تقو...\n",
       "3352   neutral  صورة مسربة لـ ويندوز فون 10 توضح شكل الأيقونات...\n",
       "\n",
       "[3353 rows x 2 columns]"
      ]
     },
     "execution_count": 2,
     "metadata": {},
     "output_type": "execute_result"
    }
   ],
   "source": [
    "# get data \n",
    "import pandas as pd\n",
    "\n",
    "df = pd.read_table('../input/semevalll/SemEval2017-train.txt' , usecols=[1,2], encoding='utf-8', names=['sentiment', 'tweet'])\n",
    "dataTest = pd.read_table('../input/semevalll/SemEval2017-test.txt', usecols=[1,2], encoding='utf-8', names=['sentiment', 'tweet'])                   \n",
    "#combine = [dataTrain,dataTest]\n",
    "df"
   ]
  },
  {
   "cell_type": "markdown",
   "id": "be71407f",
   "metadata": {
    "papermill": {
     "duration": 0.03927,
     "end_time": "2021-08-31T15:11:27.079092",
     "exception": false,
     "start_time": "2021-08-31T15:11:27.039822",
     "status": "completed"
    },
    "tags": []
   },
   "source": [
    "# **Processing**"
   ]
  },
  {
   "cell_type": "markdown",
   "id": "0f3c1f14",
   "metadata": {
    "papermill": {
     "duration": 0.039042,
     "end_time": "2021-08-31T15:11:27.157385",
     "exception": false,
     "start_time": "2021-08-31T15:11:27.118343",
     "status": "completed"
    },
    "tags": []
   },
   "source": [
    "# search and remove missing values"
   ]
  },
  {
   "cell_type": "code",
   "execution_count": 3,
   "id": "80f8b7c6",
   "metadata": {
    "execution": {
     "iopub.execute_input": "2021-08-31T15:11:27.238470Z",
     "iopub.status.busy": "2021-08-31T15:11:27.237491Z",
     "iopub.status.idle": "2021-08-31T15:11:27.380799Z",
     "shell.execute_reply": "2021-08-31T15:11:27.380255Z",
     "shell.execute_reply.started": "2021-08-31T15:10:29.572967Z"
    },
    "papermill": {
     "duration": 0.18504,
     "end_time": "2021-08-31T15:11:27.380967",
     "exception": false,
     "start_time": "2021-08-31T15:11:27.195927",
     "status": "completed"
    },
    "tags": []
   },
   "outputs": [
    {
     "name": "stdout",
     "output_type": "stream",
     "text": [
      "0\n",
      "0\n"
     ]
    }
   ],
   "source": [
    "print(np.sum(df.isnull().any(axis=1)))\n",
    "\n",
    "clean_df = df.dropna()\n",
    "print(np.sum(clean_df.isnull().any(axis=1)))"
   ]
  },
  {
   "cell_type": "code",
   "execution_count": 4,
   "id": "14430d93",
   "metadata": {
    "execution": {
     "iopub.execute_input": "2021-08-31T15:11:27.461986Z",
     "iopub.status.busy": "2021-08-31T15:11:27.461368Z",
     "iopub.status.idle": "2021-08-31T15:11:27.469715Z",
     "shell.execute_reply": "2021-08-31T15:11:27.469231Z",
     "shell.execute_reply.started": "2021-08-31T15:10:29.690159Z"
    },
    "papermill": {
     "duration": 0.04999,
     "end_time": "2021-08-31T15:11:27.469868",
     "exception": false,
     "start_time": "2021-08-31T15:11:27.419878",
     "status": "completed"
    },
    "tags": []
   },
   "outputs": [
    {
     "name": "stdout",
     "output_type": "stream",
     "text": [
      "sentiment    True\n",
      "tweet        True\n",
      "dtype: bool\n"
     ]
    }
   ],
   "source": [
    "print (df.notnull().any(axis = 0))\n"
   ]
  },
  {
   "cell_type": "markdown",
   "id": "d12f839e",
   "metadata": {
    "papermill": {
     "duration": 0.039686,
     "end_time": "2021-08-31T15:11:27.548906",
     "exception": false,
     "start_time": "2021-08-31T15:11:27.509220",
     "status": "completed"
    },
    "tags": []
   },
   "source": [
    "# Remove hashtag"
   ]
  },
  {
   "cell_type": "code",
   "execution_count": 5,
   "id": "b97507b0",
   "metadata": {
    "execution": {
     "iopub.execute_input": "2021-08-31T15:11:27.657375Z",
     "iopub.status.busy": "2021-08-31T15:11:27.652408Z",
     "iopub.status.idle": "2021-08-31T15:11:27.676044Z",
     "shell.execute_reply": "2021-08-31T15:11:27.676511Z",
     "shell.execute_reply.started": "2021-08-31T15:10:29.699454Z"
    },
    "papermill": {
     "duration": 0.088179,
     "end_time": "2021-08-31T15:11:27.676700",
     "exception": false,
     "start_time": "2021-08-31T15:11:27.588521",
     "status": "completed"
    },
    "tags": []
   },
   "outputs": [
    {
     "data": {
      "text/html": [
       "<div>\n",
       "<style scoped>\n",
       "    .dataframe tbody tr th:only-of-type {\n",
       "        vertical-align: middle;\n",
       "    }\n",
       "\n",
       "    .dataframe tbody tr th {\n",
       "        vertical-align: top;\n",
       "    }\n",
       "\n",
       "    .dataframe thead th {\n",
       "        text-align: right;\n",
       "    }\n",
       "</style>\n",
       "<table border=\"1\" class=\"dataframe\">\n",
       "  <thead>\n",
       "    <tr style=\"text-align: right;\">\n",
       "      <th></th>\n",
       "      <th>sentiment</th>\n",
       "      <th>tweet</th>\n",
       "    </tr>\n",
       "  </thead>\n",
       "  <tbody>\n",
       "    <tr>\n",
       "      <th>0</th>\n",
       "      <td>positive</td>\n",
       "      <td>إجبار أبل على التعاون على فك شفرة اجهزتها http...</td>\n",
       "    </tr>\n",
       "    <tr>\n",
       "      <th>1</th>\n",
       "      <td>positive</td>\n",
       "      <td>T @20fourMedia: غوغل تتحدى أبل وأمازون بأجهزة ...</td>\n",
       "    </tr>\n",
       "    <tr>\n",
       "      <th>2</th>\n",
       "      <td>positive</td>\n",
       "      <td>جوجل تنافس أبل وسامسونج بهاتف جديد https://tco...</td>\n",
       "    </tr>\n",
       "    <tr>\n",
       "      <th>3</th>\n",
       "      <td>positive</td>\n",
       "      <td>رئيس شركة أبل: الواقع المعزز سيصبح أهم من الطع...</td>\n",
       "    </tr>\n",
       "    <tr>\n",
       "      <th>4</th>\n",
       "      <td>neutral</td>\n",
       "      <td>ساعة أبل في الأسواق مرة أخرى https://tco/dY2xO...</td>\n",
       "    </tr>\n",
       "    <tr>\n",
       "      <th>...</th>\n",
       "      <td>...</td>\n",
       "      <td>...</td>\n",
       "    </tr>\n",
       "    <tr>\n",
       "      <th>3348</th>\n",
       "      <td>positive</td>\n",
       "      <td>طريقة تعطيل اي زر في لوحة المفاتيح على نظام وي...</td>\n",
       "    </tr>\n",
       "    <tr>\n",
       "      <th>3349</th>\n",
       "      <td>neutral</td>\n",
       "      <td>T @syst__em: إطلاق تحديث تراكمي برقم 14393321 ...</td>\n",
       "    </tr>\n",
       "    <tr>\n",
       "      <th>3350</th>\n",
       "      <td>neutral</td>\n",
       "      <td>4 طرق لحذف الملفات المستعصية من الحذف في ويندو...</td>\n",
       "    </tr>\n",
       "    <tr>\n",
       "      <th>3351</th>\n",
       "      <td>neutral</td>\n",
       "      <td>شرح فيديو مهم جدا حل لمشاكل الكومبيوتر كيف تقو...</td>\n",
       "    </tr>\n",
       "    <tr>\n",
       "      <th>3352</th>\n",
       "      <td>neutral</td>\n",
       "      <td>صورة مسربة لـ ويندوز فون 10 توضح شكل الأيقونات...</td>\n",
       "    </tr>\n",
       "  </tbody>\n",
       "</table>\n",
       "<p>3353 rows × 2 columns</p>\n",
       "</div>"
      ],
      "text/plain": [
       "     sentiment                                              tweet\n",
       "0     positive  إجبار أبل على التعاون على فك شفرة اجهزتها http...\n",
       "1     positive  T @20fourMedia: غوغل تتحدى أبل وأمازون بأجهزة ...\n",
       "2     positive  جوجل تنافس أبل وسامسونج بهاتف جديد https://tco...\n",
       "3     positive  رئيس شركة أبل: الواقع المعزز سيصبح أهم من الطع...\n",
       "4      neutral  ساعة أبل في الأسواق مرة أخرى https://tco/dY2xO...\n",
       "...        ...                                                ...\n",
       "3348  positive  طريقة تعطيل اي زر في لوحة المفاتيح على نظام وي...\n",
       "3349   neutral  T @syst__em: إطلاق تحديث تراكمي برقم 14393321 ...\n",
       "3350   neutral  4 طرق لحذف الملفات المستعصية من الحذف في ويندو...\n",
       "3351   neutral  شرح فيديو مهم جدا حل لمشاكل الكومبيوتر كيف تقو...\n",
       "3352   neutral  صورة مسربة لـ ويندوز فون 10 توضح شكل الأيقونات...\n",
       "\n",
       "[3353 rows x 2 columns]"
      ]
     },
     "execution_count": 5,
     "metadata": {},
     "output_type": "execute_result"
    }
   ],
   "source": [
    "def remove_hashtag(df, col = 'tweet'):\n",
    "    for letter in r'#.][!XR':\n",
    "        df[col] = df[col].astype(str).str.replace(letter,'', regex=True)\n",
    "    \n",
    "\n",
    "        \n",
    "remove_hashtag(clean_df)\n",
    "clean_df"
   ]
  },
  {
   "cell_type": "markdown",
   "id": "5610fe12",
   "metadata": {
    "papermill": {
     "duration": 0.039446,
     "end_time": "2021-08-31T15:11:27.756068",
     "exception": false,
     "start_time": "2021-08-31T15:11:27.716622",
     "status": "completed"
    },
    "tags": []
   },
   "source": [
    "# Remove Punctuations"
   ]
  },
  {
   "cell_type": "code",
   "execution_count": 6,
   "id": "39ff2322",
   "metadata": {
    "execution": {
     "iopub.execute_input": "2021-08-31T15:11:27.842461Z",
     "iopub.status.busy": "2021-08-31T15:11:27.841768Z",
     "iopub.status.idle": "2021-08-31T15:11:27.845598Z",
     "shell.execute_reply": "2021-08-31T15:11:27.845113Z",
     "shell.execute_reply.started": "2021-08-31T15:10:29.739290Z"
    },
    "papermill": {
     "duration": 0.049769,
     "end_time": "2021-08-31T15:11:27.845739",
     "exception": false,
     "start_time": "2021-08-31T15:11:27.795970",
     "status": "completed"
    },
    "tags": []
   },
   "outputs": [],
   "source": [
    "arabic_punctuations = '''`÷×؛<>_()*&^%][ـ،/:\"؟.,'{}~¦+|!”…“–ـ'''\n",
    "english_punctuations = string.punctuation\n",
    "punctuations_list = arabic_punctuations + english_punctuations\n",
    "\n",
    "def remove_punctuations(text):\n",
    "    translator = str.maketrans('', '', punctuations_list)\n",
    "    return text.translate(translator)"
   ]
  },
  {
   "cell_type": "markdown",
   "id": "15c64308",
   "metadata": {
    "papermill": {
     "duration": 0.039513,
     "end_time": "2021-08-31T15:11:27.925805",
     "exception": false,
     "start_time": "2021-08-31T15:11:27.886292",
     "status": "completed"
    },
    "tags": []
   },
   "source": [
    "# Normalization"
   ]
  },
  {
   "cell_type": "code",
   "execution_count": 7,
   "id": "c162c3c2",
   "metadata": {
    "execution": {
     "iopub.execute_input": "2021-08-31T15:11:28.011825Z",
     "iopub.status.busy": "2021-08-31T15:11:28.011175Z",
     "iopub.status.idle": "2021-08-31T15:11:28.013976Z",
     "shell.execute_reply": "2021-08-31T15:11:28.013365Z",
     "shell.execute_reply.started": "2021-08-31T15:10:29.745382Z"
    },
    "papermill": {
     "duration": 0.047993,
     "end_time": "2021-08-31T15:11:28.014114",
     "exception": false,
     "start_time": "2021-08-31T15:11:27.966121",
     "status": "completed"
    },
    "tags": []
   },
   "outputs": [],
   "source": [
    "def normalize_arabic(text):\n",
    "    text = re.sub(\"[إأآا]\", \"ا\", text)\n",
    "    text = re.sub(\"ى\", \"ي\", text)\n",
    "    text = re.sub(\"ة\", \"ه\", text)\n",
    "    text = re.sub(\"گ\", \"ك\", text)\n",
    "    return text"
   ]
  },
  {
   "cell_type": "markdown",
   "id": "e58a1412",
   "metadata": {
    "papermill": {
     "duration": 0.039544,
     "end_time": "2021-08-31T15:11:28.094362",
     "exception": false,
     "start_time": "2021-08-31T15:11:28.054818",
     "status": "completed"
    },
    "tags": []
   },
   "source": [
    "# Remove Repeating Char"
   ]
  },
  {
   "cell_type": "code",
   "execution_count": 8,
   "id": "80c25fe6",
   "metadata": {
    "execution": {
     "iopub.execute_input": "2021-08-31T15:11:28.179610Z",
     "iopub.status.busy": "2021-08-31T15:11:28.178873Z",
     "iopub.status.idle": "2021-08-31T15:11:28.181998Z",
     "shell.execute_reply": "2021-08-31T15:11:28.181495Z",
     "shell.execute_reply.started": "2021-08-31T15:10:29.757874Z"
    },
    "papermill": {
     "duration": 0.047469,
     "end_time": "2021-08-31T15:11:28.182135",
     "exception": false,
     "start_time": "2021-08-31T15:11:28.134666",
     "status": "completed"
    },
    "tags": []
   },
   "outputs": [],
   "source": [
    "def remove_repeating_char(text):\n",
    "    return re.sub(r'(.)\\1+', r'\\1', text)"
   ]
  },
  {
   "cell_type": "markdown",
   "id": "bb163c3b",
   "metadata": {
    "papermill": {
     "duration": 0.039366,
     "end_time": "2021-08-31T15:11:28.261180",
     "exception": false,
     "start_time": "2021-08-31T15:11:28.221814",
     "status": "completed"
    },
    "tags": []
   },
   "source": [
    "# Processing Labels"
   ]
  },
  {
   "cell_type": "code",
   "execution_count": 9,
   "id": "feb6e5dd",
   "metadata": {
    "execution": {
     "iopub.execute_input": "2021-08-31T15:11:28.346319Z",
     "iopub.status.busy": "2021-08-31T15:11:28.345645Z",
     "iopub.status.idle": "2021-08-31T15:11:28.349037Z",
     "shell.execute_reply": "2021-08-31T15:11:28.348451Z",
     "shell.execute_reply.started": "2021-08-31T15:10:29.766281Z"
    },
    "papermill": {
     "duration": 0.048517,
     "end_time": "2021-08-31T15:11:28.349193",
     "exception": false,
     "start_time": "2021-08-31T15:11:28.300676",
     "status": "completed"
    },
    "tags": []
   },
   "outputs": [],
   "source": [
    "def procesSentiment(Sentiment):\n",
    "    Sentiment = re.sub(\"positive\", \"1\", Sentiment)\n",
    "    Sentiment = re.sub(\"negative\", \"-1\", Sentiment)\n",
    "    Sentiment = re.sub(\"neutral\", \"0\", Sentiment)\n",
    "    return Sentiment\n",
    "        "
   ]
  },
  {
   "cell_type": "code",
   "execution_count": 10,
   "id": "0fd7600d",
   "metadata": {
    "execution": {
     "iopub.execute_input": "2021-08-31T15:11:28.481199Z",
     "iopub.status.busy": "2021-08-31T15:11:28.470844Z",
     "iopub.status.idle": "2021-08-31T15:11:28.748129Z",
     "shell.execute_reply": "2021-08-31T15:11:28.747542Z",
     "shell.execute_reply.started": "2021-08-31T15:10:29.774888Z"
    },
    "papermill": {
     "duration": 0.358677,
     "end_time": "2021-08-31T15:11:28.748280",
     "exception": false,
     "start_time": "2021-08-31T15:11:28.389603",
     "status": "completed"
    },
    "tags": []
   },
   "outputs": [
    {
     "data": {
      "text/html": [
       "<div>\n",
       "<style scoped>\n",
       "    .dataframe tbody tr th:only-of-type {\n",
       "        vertical-align: middle;\n",
       "    }\n",
       "\n",
       "    .dataframe tbody tr th {\n",
       "        vertical-align: top;\n",
       "    }\n",
       "\n",
       "    .dataframe thead th {\n",
       "        text-align: right;\n",
       "    }\n",
       "</style>\n",
       "<table border=\"1\" class=\"dataframe\">\n",
       "  <thead>\n",
       "    <tr style=\"text-align: right;\">\n",
       "      <th></th>\n",
       "      <th>sentiment</th>\n",
       "      <th>tweet</th>\n",
       "    </tr>\n",
       "  </thead>\n",
       "  <tbody>\n",
       "    <tr>\n",
       "      <th>0</th>\n",
       "      <td>1</td>\n",
       "      <td>اجبار ابل علي التعاون علي فك شفره اجهزتها</td>\n",
       "    </tr>\n",
       "    <tr>\n",
       "      <th>1</th>\n",
       "      <td>1</td>\n",
       "      <td>غوغل تحدي ابل وامازون باجهزه جديده</td>\n",
       "    </tr>\n",
       "    <tr>\n",
       "      <th>2</th>\n",
       "      <td>1</td>\n",
       "      <td>جوجل تنافس ابل وسامسونج بهاتف جديد</td>\n",
       "    </tr>\n",
       "    <tr>\n",
       "      <th>3</th>\n",
       "      <td>1</td>\n",
       "      <td>رئيس شركه ابل الواقع المعز سيصبح اهم من الطعام</td>\n",
       "    </tr>\n",
       "    <tr>\n",
       "      <th>4</th>\n",
       "      <td>0</td>\n",
       "      <td>ساعه ابل في الاسواق مره اخري</td>\n",
       "    </tr>\n",
       "    <tr>\n",
       "      <th>...</th>\n",
       "      <td>...</td>\n",
       "      <td>...</td>\n",
       "    </tr>\n",
       "    <tr>\n",
       "      <th>3348</th>\n",
       "      <td>1</td>\n",
       "      <td>طريقه تعطيل اي زر في لوحه المفاتيح علي نظام وي...</td>\n",
       "    </tr>\n",
       "    <tr>\n",
       "      <th>3349</th>\n",
       "      <td>0</td>\n",
       "      <td>اطلاق تحديث تراكمي برقم ل ويندوز المكتبي واله...</td>\n",
       "    </tr>\n",
       "    <tr>\n",
       "      <th>3350</th>\n",
       "      <td>0</td>\n",
       "      <td>طرق لحذف الملفات المستعصيه من الحذف في ويندوز...</td>\n",
       "    </tr>\n",
       "    <tr>\n",
       "      <th>3351</th>\n",
       "      <td>0</td>\n",
       "      <td>شرح فيديو مهم جدا حل لمشاكل الكومبيوتر كيف تقو...</td>\n",
       "    </tr>\n",
       "    <tr>\n",
       "      <th>3352</th>\n",
       "      <td>0</td>\n",
       "      <td>صوره مسربه ل ويندوز فون توضح شكل الايقونات الر...</td>\n",
       "    </tr>\n",
       "  </tbody>\n",
       "</table>\n",
       "<p>3353 rows × 2 columns</p>\n",
       "</div>"
      ],
      "text/plain": [
       "     sentiment                                              tweet\n",
       "0            1         اجبار ابل علي التعاون علي فك شفره اجهزتها \n",
       "1            1                غوغل تحدي ابل وامازون باجهزه جديده \n",
       "2            1                جوجل تنافس ابل وسامسونج بهاتف جديد \n",
       "3            1    رئيس شركه ابل الواقع المعز سيصبح اهم من الطعام \n",
       "4            0                      ساعه ابل في الاسواق مره اخري \n",
       "...        ...                                                ...\n",
       "3348         1  طريقه تعطيل اي زر في لوحه المفاتيح علي نظام وي...\n",
       "3349         0   اطلاق تحديث تراكمي برقم ل ويندوز المكتبي واله...\n",
       "3350         0   طرق لحذف الملفات المستعصيه من الحذف في ويندوز...\n",
       "3351         0  شرح فيديو مهم جدا حل لمشاكل الكومبيوتر كيف تقو...\n",
       "3352         0  صوره مسربه ل ويندوز فون توضح شكل الايقونات الر...\n",
       "\n",
       "[3353 rows x 2 columns]"
      ]
     },
     "execution_count": 10,
     "metadata": {},
     "output_type": "execute_result"
    }
   ],
   "source": [
    "def processDocument(doc, stemmer): \n",
    "\n",
    "    #Replace @username with empty string\n",
    "    doc = re.sub(r'@[^\\s]+', ' ', doc)\n",
    "    doc = re.sub(r'_', ' ', doc)\n",
    "    doc = re.sub(r'\\n', ' ', doc)\n",
    "    doc = re.sub(r'[a-z,A-Z]', '', doc)\n",
    "    doc = re.sub(r'\\d', '', doc)\n",
    "    #Convert www.* or https?://* to \" \"\n",
    "    doc = re.sub('((www\\.[^\\s]+)|(https?://[^\\s]+))',' ',doc)\n",
    "    #Replace #word with word\n",
    "    doc = re.sub(r'#([^\\s]+)', r'\\1', doc)\n",
    "    # remove punctuations\n",
    "    doc= remove_punctuations(doc)\n",
    "    # normalize the tweet\n",
    "    doc= normalize_arabic(doc)\n",
    "    # remove repeated letters\n",
    "    doc=remove_repeating_char(doc)\n",
    "    #stemming\n",
    "    doc = stemmer.stem(doc)\n",
    "   \n",
    "    return doc\n",
    "\n",
    "\n",
    "\n",
    "stemmer = ISRIStemmer()\n",
    "clean_df[\"tweet\"] = clean_df['tweet'].apply(lambda x: processDocument(x, stemmer))\n",
    "clean_df[\"sentiment\"] =clean_df['sentiment'].apply(lambda x: procesSentiment(x))\n",
    "clean_df[\"sentiment\"]\n",
    "clean_df"
   ]
  },
  {
   "cell_type": "code",
   "execution_count": 11,
   "id": "d5222bf9",
   "metadata": {
    "execution": {
     "iopub.execute_input": "2021-08-31T15:11:28.873288Z",
     "iopub.status.busy": "2021-08-31T15:11:28.872202Z",
     "iopub.status.idle": "2021-08-31T15:11:28.876230Z",
     "shell.execute_reply": "2021-08-31T15:11:28.876695Z",
     "shell.execute_reply.started": "2021-08-31T15:10:30.048949Z"
    },
    "papermill": {
     "duration": 0.087039,
     "end_time": "2021-08-31T15:11:28.876873",
     "exception": false,
     "start_time": "2021-08-31T15:11:28.789834",
     "status": "completed"
    },
    "tags": []
   },
   "outputs": [
    {
     "data": {
      "text/html": [
       "<div>\n",
       "<style scoped>\n",
       "    .dataframe tbody tr th:only-of-type {\n",
       "        vertical-align: middle;\n",
       "    }\n",
       "\n",
       "    .dataframe tbody tr th {\n",
       "        vertical-align: top;\n",
       "    }\n",
       "\n",
       "    .dataframe thead th {\n",
       "        text-align: right;\n",
       "    }\n",
       "</style>\n",
       "<table border=\"1\" class=\"dataframe\">\n",
       "  <thead>\n",
       "    <tr style=\"text-align: right;\">\n",
       "      <th></th>\n",
       "      <th>sentiment</th>\n",
       "      <th>tweet</th>\n",
       "    </tr>\n",
       "  </thead>\n",
       "  <tbody>\n",
       "    <tr>\n",
       "      <th>0</th>\n",
       "      <td>1</td>\n",
       "      <td>[اجبار, ابل, علي, التعاون, علي, فك, شفره, اجهز...</td>\n",
       "    </tr>\n",
       "    <tr>\n",
       "      <th>1</th>\n",
       "      <td>1</td>\n",
       "      <td>[غوغل, تحدي, ابل, وامازون, باجهزه, جديده]</td>\n",
       "    </tr>\n",
       "    <tr>\n",
       "      <th>2</th>\n",
       "      <td>1</td>\n",
       "      <td>[جوجل, تنافس, ابل, وسامسونج, بهاتف, جديد]</td>\n",
       "    </tr>\n",
       "    <tr>\n",
       "      <th>3</th>\n",
       "      <td>1</td>\n",
       "      <td>[رئيس, شركه, ابل, الواقع, المعز, سيصبح, اهم, م...</td>\n",
       "    </tr>\n",
       "    <tr>\n",
       "      <th>4</th>\n",
       "      <td>0</td>\n",
       "      <td>[ساعه, ابل, في, الاسواق, مره, اخري]</td>\n",
       "    </tr>\n",
       "    <tr>\n",
       "      <th>...</th>\n",
       "      <td>...</td>\n",
       "      <td>...</td>\n",
       "    </tr>\n",
       "    <tr>\n",
       "      <th>3348</th>\n",
       "      <td>1</td>\n",
       "      <td>[طريقه, تعطيل, اي, زر, في, لوحه, المفاتيح, علي...</td>\n",
       "    </tr>\n",
       "    <tr>\n",
       "      <th>3349</th>\n",
       "      <td>0</td>\n",
       "      <td>[اطلاق, تحديث, تراكمي, برقم, ل, ويندوز, المكتب...</td>\n",
       "    </tr>\n",
       "    <tr>\n",
       "      <th>3350</th>\n",
       "      <td>0</td>\n",
       "      <td>[طرق, لحذف, الملفات, المستعصيه, من, الحذف, في,...</td>\n",
       "    </tr>\n",
       "    <tr>\n",
       "      <th>3351</th>\n",
       "      <td>0</td>\n",
       "      <td>[شرح, فيديو, مهم, جدا, حل, لمشاكل, الكومبيوتر,...</td>\n",
       "    </tr>\n",
       "    <tr>\n",
       "      <th>3352</th>\n",
       "      <td>0</td>\n",
       "      <td>[صوره, مسربه, ل, ويندوز, فون, توضح, شكل, الايق...</td>\n",
       "    </tr>\n",
       "  </tbody>\n",
       "</table>\n",
       "<p>3353 rows × 2 columns</p>\n",
       "</div>"
      ],
      "text/plain": [
       "     sentiment                                              tweet\n",
       "0            1  [اجبار, ابل, علي, التعاون, علي, فك, شفره, اجهز...\n",
       "1            1          [غوغل, تحدي, ابل, وامازون, باجهزه, جديده]\n",
       "2            1          [جوجل, تنافس, ابل, وسامسونج, بهاتف, جديد]\n",
       "3            1  [رئيس, شركه, ابل, الواقع, المعز, سيصبح, اهم, م...\n",
       "4            0                [ساعه, ابل, في, الاسواق, مره, اخري]\n",
       "...        ...                                                ...\n",
       "3348         1  [طريقه, تعطيل, اي, زر, في, لوحه, المفاتيح, علي...\n",
       "3349         0  [اطلاق, تحديث, تراكمي, برقم, ل, ويندوز, المكتب...\n",
       "3350         0  [طرق, لحذف, الملفات, المستعصيه, من, الحذف, في,...\n",
       "3351         0  [شرح, فيديو, مهم, جدا, حل, لمشاكل, الكومبيوتر,...\n",
       "3352         0  [صوره, مسربه, ل, ويندوز, فون, توضح, شكل, الايق...\n",
       "\n",
       "[3353 rows x 2 columns]"
      ]
     },
     "execution_count": 11,
     "metadata": {},
     "output_type": "execute_result"
    }
   ],
   "source": [
    "tokenizer = RegexpTokenizer(r'\\w+')\n",
    "clean_df[\"tweet\"] = clean_df[\"tweet\"].apply(tokenizer.tokenize)\n",
    "# print(clean_df['text'].values[0])\n",
    "clean_df"
   ]
  },
  {
   "cell_type": "markdown",
   "id": "88954dc5",
   "metadata": {
    "papermill": {
     "duration": 0.040885,
     "end_time": "2021-08-31T15:11:28.959436",
     "exception": false,
     "start_time": "2021-08-31T15:11:28.918551",
     "status": "completed"
    },
    "tags": []
   },
   "source": [
    "# Remove Stop Words"
   ]
  },
  {
   "cell_type": "code",
   "execution_count": 12,
   "id": "21811476",
   "metadata": {
    "execution": {
     "iopub.execute_input": "2021-08-31T15:11:29.047487Z",
     "iopub.status.busy": "2021-08-31T15:11:29.046700Z",
     "iopub.status.idle": "2021-08-31T15:11:29.053146Z",
     "shell.execute_reply": "2021-08-31T15:11:29.052627Z",
     "shell.execute_reply.started": "2021-08-31T15:10:30.090210Z"
    },
    "papermill": {
     "duration": 0.05296,
     "end_time": "2021-08-31T15:11:29.053297",
     "exception": false,
     "start_time": "2021-08-31T15:11:29.000337",
     "status": "completed"
    },
    "tags": []
   },
   "outputs": [
    {
     "name": "stdout",
     "output_type": "stream",
     "text": [
      "إذ إذا إذما إذن أف أقل أكثر ألا إلا التي الذي الذين اللاتي اللائي اللتان اللتيا اللتين اللذان اللذين اللواتي إلى إليك إليكم إليكما إليكن أم أما أما إما أن إن إنا أنا أنت أنتم أنتما أنتن إنما إنه أنى أنى آه آها أو أولاء أولئك أوه آي أي أيها إي أين أين أينما إيه بخ بس بعد بعض بك بكم بكم بكما بكن بل بلى بما بماذا بمن بنا به بها بهم بهما بهن بي بين بيد تلك تلكم تلكما ته تي تين تينك ثم ثمة حاشا حبذا حتى حيث حيثما حين خلا دون ذا ذات ذاك ذان ذانك ذلك ذلكم ذلكما ذلكن ذه ذو ذوا ذواتا ذواتي ذي ذين ذينك ريث سوف سوى شتان عدا عسى عل على عليك عليه عما عن عند غير فإذا فإن فلا فمن في فيم فيما فيه فيها قد كأن كأنما كأي كأين كذا كذلك كل كلا كلاهما كلتا كلما كليكما كليهما كم كم كما كي كيت كيف كيفما لا لاسيما لدى لست لستم لستما لستن لسن لسنا لعل لك لكم لكما لكن لكنما لكي لكيلا لم لما لن لنا له لها لهم لهما لهن لو لولا لوما لي لئن ليت ليس ليسا ليست ليستا ليسوا ما ماذا متى مذ مع مما ممن من منه منها منذ مه مهما نحن نحو نعم ها هاتان هاته هاتي هاتين هاك هاهنا هذا هذان هذه هذي هذين هكذا هل هلا هم هما هن هنا هناك هنالك هو هؤلاء هي هيا هيت هيهات والذي والذين وإذ وإذا وإن ولا ولكن ولو وما ومن وهو يا\n"
     ]
    }
   ],
   "source": [
    "stopwords_list = stopwords.words('arabic')\n",
    "listToStr = ' '.join([str(elem) for elem in stopwords_list]) \n",
    "print(listToStr)"
   ]
  },
  {
   "cell_type": "code",
   "execution_count": 13,
   "id": "9fe3253c",
   "metadata": {
    "execution": {
     "iopub.execute_input": "2021-08-31T15:11:29.167117Z",
     "iopub.status.busy": "2021-08-31T15:11:29.161755Z",
     "iopub.status.idle": "2021-08-31T15:11:29.330602Z",
     "shell.execute_reply": "2021-08-31T15:11:29.329962Z",
     "shell.execute_reply.started": "2021-08-31T15:10:30.097994Z"
    },
    "papermill": {
     "duration": 0.236301,
     "end_time": "2021-08-31T15:11:29.330741",
     "exception": false,
     "start_time": "2021-08-31T15:11:29.094440",
     "status": "completed"
    },
    "tags": []
   },
   "outputs": [
    {
     "data": {
      "text/html": [
       "<div>\n",
       "<style scoped>\n",
       "    .dataframe tbody tr th:only-of-type {\n",
       "        vertical-align: middle;\n",
       "    }\n",
       "\n",
       "    .dataframe tbody tr th {\n",
       "        vertical-align: top;\n",
       "    }\n",
       "\n",
       "    .dataframe thead th {\n",
       "        text-align: right;\n",
       "    }\n",
       "</style>\n",
       "<table border=\"1\" class=\"dataframe\">\n",
       "  <thead>\n",
       "    <tr style=\"text-align: right;\">\n",
       "      <th></th>\n",
       "      <th>sentiment</th>\n",
       "      <th>tweet</th>\n",
       "    </tr>\n",
       "  </thead>\n",
       "  <tbody>\n",
       "    <tr>\n",
       "      <th>0</th>\n",
       "      <td>1</td>\n",
       "      <td>[اجبار, ابل, علي, التعاون, علي, فك, شفره, اجهز...</td>\n",
       "    </tr>\n",
       "    <tr>\n",
       "      <th>1</th>\n",
       "      <td>1</td>\n",
       "      <td>[غوغل, تحدي, ابل, وامازون, باجهزه, جديده]</td>\n",
       "    </tr>\n",
       "    <tr>\n",
       "      <th>2</th>\n",
       "      <td>1</td>\n",
       "      <td>[جوجل, تنافس, ابل, وسامسونج, بهاتف, جديد]</td>\n",
       "    </tr>\n",
       "    <tr>\n",
       "      <th>3</th>\n",
       "      <td>1</td>\n",
       "      <td>[رئيس, شركه, ابل, الواقع, المعز, سيصبح, اهم, ا...</td>\n",
       "    </tr>\n",
       "    <tr>\n",
       "      <th>4</th>\n",
       "      <td>0</td>\n",
       "      <td>[ساعه, ابل, الاسواق, مره, اخري]</td>\n",
       "    </tr>\n",
       "    <tr>\n",
       "      <th>...</th>\n",
       "      <td>...</td>\n",
       "      <td>...</td>\n",
       "    </tr>\n",
       "    <tr>\n",
       "      <th>3348</th>\n",
       "      <td>1</td>\n",
       "      <td>[طريقه, تعطيل, اي, زر, لوحه, المفاتيح, علي, نظ...</td>\n",
       "    </tr>\n",
       "    <tr>\n",
       "      <th>3349</th>\n",
       "      <td>0</td>\n",
       "      <td>[اطلاق, تحديث, تراكمي, برقم, ل, ويندوز, المكتب...</td>\n",
       "    </tr>\n",
       "    <tr>\n",
       "      <th>3350</th>\n",
       "      <td>0</td>\n",
       "      <td>[طرق, لحذف, الملفات, المستعصيه, الحذف, ويندوز,...</td>\n",
       "    </tr>\n",
       "    <tr>\n",
       "      <th>3351</th>\n",
       "      <td>0</td>\n",
       "      <td>[شرح, فيديو, مهم, جدا, حل, لمشاكل, الكومبيوتر,...</td>\n",
       "    </tr>\n",
       "    <tr>\n",
       "      <th>3352</th>\n",
       "      <td>0</td>\n",
       "      <td>[صوره, مسربه, ل, ويندوز, فون, توضح, شكل, الايق...</td>\n",
       "    </tr>\n",
       "  </tbody>\n",
       "</table>\n",
       "<p>3353 rows × 2 columns</p>\n",
       "</div>"
      ],
      "text/plain": [
       "     sentiment                                              tweet\n",
       "0            1  [اجبار, ابل, علي, التعاون, علي, فك, شفره, اجهز...\n",
       "1            1          [غوغل, تحدي, ابل, وامازون, باجهزه, جديده]\n",
       "2            1          [جوجل, تنافس, ابل, وسامسونج, بهاتف, جديد]\n",
       "3            1  [رئيس, شركه, ابل, الواقع, المعز, سيصبح, اهم, ا...\n",
       "4            0                    [ساعه, ابل, الاسواق, مره, اخري]\n",
       "...        ...                                                ...\n",
       "3348         1  [طريقه, تعطيل, اي, زر, لوحه, المفاتيح, علي, نظ...\n",
       "3349         0  [اطلاق, تحديث, تراكمي, برقم, ل, ويندوز, المكتب...\n",
       "3350         0  [طرق, لحذف, الملفات, المستعصيه, الحذف, ويندوز,...\n",
       "3351         0  [شرح, فيديو, مهم, جدا, حل, لمشاكل, الكومبيوتر,...\n",
       "3352         0  [صوره, مسربه, ل, ويندوز, فون, توضح, شكل, الايق...\n",
       "\n",
       "[3353 rows x 2 columns]"
      ]
     },
     "execution_count": 13,
     "metadata": {},
     "output_type": "execute_result"
    }
   ],
   "source": [
    "clean_df[\"tweet\"] = clean_df[\"tweet\"].apply(lambda x: [item for item in x if item not in stopwords_list])\n",
    "clean_df"
   ]
  },
  {
   "cell_type": "markdown",
   "id": "c8267f7a",
   "metadata": {
    "papermill": {
     "duration": 0.041149,
     "end_time": "2021-08-31T15:11:29.413856",
     "exception": false,
     "start_time": "2021-08-31T15:11:29.372707",
     "status": "completed"
    },
    "tags": []
   },
   "source": [
    "# Count Propetries"
   ]
  },
  {
   "cell_type": "code",
   "execution_count": 14,
   "id": "642f7b55",
   "metadata": {
    "execution": {
     "iopub.execute_input": "2021-08-31T15:11:29.503732Z",
     "iopub.status.busy": "2021-08-31T15:11:29.503091Z",
     "iopub.status.idle": "2021-08-31T15:11:29.506526Z",
     "shell.execute_reply": "2021-08-31T15:11:29.505890Z",
     "shell.execute_reply.started": "2021-08-31T15:10:30.265086Z"
    },
    "papermill": {
     "duration": 0.05129,
     "end_time": "2021-08-31T15:11:29.506666",
     "exception": false,
     "start_time": "2021-08-31T15:11:29.455376",
     "status": "completed"
    },
    "tags": []
   },
   "outputs": [],
   "source": [
    "def countPropetries(df):\n",
    "    all_words = [word for tokens in df[\"tweet\"] for word in tokens]\n",
    "    sentence_lengths = [len(tokens) for tokens in df[\"tweet\"]]\n",
    "\n",
    "    VOCAB = sorted(list(set(all_words)))\n",
    "\n",
    "    print(\"%s words total, with a vocabulary size of %s\" % (len(all_words), len(VOCAB)))\n",
    "    print(\"Max sentence length is %s\" % max(sentence_lengths))\n",
    "    return all_words"
   ]
  },
  {
   "cell_type": "code",
   "execution_count": 15,
   "id": "3cc25d69",
   "metadata": {
    "execution": {
     "iopub.execute_input": "2021-08-31T15:11:29.600897Z",
     "iopub.status.busy": "2021-08-31T15:11:29.599789Z",
     "iopub.status.idle": "2021-08-31T15:11:29.624888Z",
     "shell.execute_reply": "2021-08-31T15:11:29.624241Z",
     "shell.execute_reply.started": "2021-08-31T15:10:30.272189Z"
    },
    "papermill": {
     "duration": 0.075718,
     "end_time": "2021-08-31T15:11:29.625059",
     "exception": false,
     "start_time": "2021-08-31T15:11:29.549341",
     "status": "completed"
    },
    "tags": []
   },
   "outputs": [
    {
     "name": "stdout",
     "output_type": "stream",
     "text": [
      "positive : \n",
      "8312 words total, with a vocabulary size of 4476\n",
      "Max sentence length is 24\n",
      "\n",
      "neutral : \n",
      "15433 words total, with a vocabulary size of 7407\n",
      "Max sentence length is 28\n",
      "\n",
      "negative : \n",
      "14765 words total, with a vocabulary size of 7403\n",
      "Max sentence length is 26\n"
     ]
    }
   ],
   "source": [
    "positive_df = clean_df.loc[clean_df[\"sentiment\"] == '1']\n",
    "neutral_df = clean_df.loc[clean_df[\"sentiment\"] == '0']\n",
    "negative_df = clean_df.loc[clean_df[\"sentiment\"] == '-1']\n",
    "\n",
    "print(\"positive : \")\n",
    "positive_words = countPropetries(positive_df)\n",
    "print(\"\\nneutral : \")\n",
    "neutral_words = countPropetries(neutral_df)\n",
    "print(\"\\nnegative : \")\n",
    "negative_words = countPropetries(negative_df)\n"
   ]
  },
  {
   "cell_type": "code",
   "execution_count": 16,
   "id": "875d7c38",
   "metadata": {
    "execution": {
     "iopub.execute_input": "2021-08-31T15:11:29.715910Z",
     "iopub.status.busy": "2021-08-31T15:11:29.715255Z",
     "iopub.status.idle": "2021-08-31T15:11:29.718660Z",
     "shell.execute_reply": "2021-08-31T15:11:29.718169Z",
     "shell.execute_reply.started": "2021-08-31T15:10:30.305444Z"
    },
    "papermill": {
     "duration": 0.051713,
     "end_time": "2021-08-31T15:11:29.718802",
     "exception": false,
     "start_time": "2021-08-31T15:11:29.667089",
     "status": "completed"
    },
    "tags": []
   },
   "outputs": [],
   "source": [
    "def plot(all_words, title):\n",
    "    counted_words = Counter(all_words)\n",
    "\n",
    "    words = []\n",
    "    counts = []\n",
    "    for letter, count in counted_words.most_common(25):\n",
    "        words.append(letter)\n",
    "        counts.append(count)\n",
    "\n",
    "    colors = cm.rainbow(np.linspace(0, 1, 10))\n",
    "    rcParams['figure.figsize'] = 20, 10\n",
    "\n",
    "    plt.title(title)\n",
    "    plt.xlabel('Count')\n",
    "    plt.ylabel('Words')\n",
    "    plt.barh(words, counts, color=colors)"
   ]
  },
  {
   "cell_type": "code",
   "execution_count": 17,
   "id": "01caf1e3",
   "metadata": {
    "execution": {
     "iopub.execute_input": "2021-08-31T15:11:29.827383Z",
     "iopub.status.busy": "2021-08-31T15:11:29.826706Z",
     "iopub.status.idle": "2021-08-31T15:11:30.202382Z",
     "shell.execute_reply": "2021-08-31T15:11:30.201842Z",
     "shell.execute_reply.started": "2021-08-31T15:10:30.313189Z"
    },
    "papermill": {
     "duration": 0.441386,
     "end_time": "2021-08-31T15:11:30.202538",
     "exception": false,
     "start_time": "2021-08-31T15:11:29.761152",
     "status": "completed"
    },
    "tags": []
   },
   "outputs": [
    {
     "data": {
      "image/png": "[encoded data removed]",
      "text/plain": [
       "<Figure size 1440x720 with 1 Axes>"
      ]
     },
     "metadata": {
      "needs_background": "light"
     },
     "output_type": "display_data"
    }
   ],
   "source": [
    "plot(positive_words, 'Top words in Positive')\n"
   ]
  },
  {
   "cell_type": "code",
   "execution_count": 18,
   "id": "b1d0e326",
   "metadata": {
    "execution": {
     "iopub.execute_input": "2021-08-31T15:11:30.323871Z",
     "iopub.status.busy": "2021-08-31T15:11:30.318961Z",
     "iopub.status.idle": "2021-08-31T15:11:30.637150Z",
     "shell.execute_reply": "2021-08-31T15:11:30.637647Z",
     "shell.execute_reply.started": "2021-08-31T15:10:30.632069Z"
    },
    "papermill": {
     "duration": 0.392041,
     "end_time": "2021-08-31T15:11:30.637816",
     "exception": false,
     "start_time": "2021-08-31T15:11:30.245775",
     "status": "completed"
    },
    "tags": []
   },
   "outputs": [
    {
     "data": {
      "image/png": "[encoded data removed]",
      "text/plain": [
       "<Figure size 1440x720 with 1 Axes>"
      ]
     },
     "metadata": {
      "needs_background": "light"
     },
     "output_type": "display_data"
    }
   ],
   "source": [
    "plot(neutral_words, 'Top words in Neutral')\n"
   ]
  },
  {
   "cell_type": "code",
   "execution_count": 19,
   "id": "ef53693a",
   "metadata": {
    "execution": {
     "iopub.execute_input": "2021-08-31T15:11:30.762419Z",
     "iopub.status.busy": "2021-08-31T15:11:30.759213Z",
     "iopub.status.idle": "2021-08-31T15:11:31.069898Z",
     "shell.execute_reply": "2021-08-31T15:11:31.070453Z",
     "shell.execute_reply.started": "2021-08-31T15:10:30.925991Z"
    },
    "papermill": {
     "duration": 0.38873,
     "end_time": "2021-08-31T15:11:31.070644",
     "exception": false,
     "start_time": "2021-08-31T15:11:30.681914",
     "status": "completed"
    },
    "tags": []
   },
   "outputs": [
    {
     "data": {
      "image/png": "[encoded data removed]",
      "text/plain": [
       "<Figure size 1440x720 with 1 Axes>"
      ]
     },
     "metadata": {
      "needs_background": "light"
     },
     "output_type": "display_data"
    }
   ],
   "source": [
    "plot(negative_words, 'Top words in Negative')\n"
   ]
  },
  {
   "cell_type": "code",
   "execution_count": 20,
   "id": "34594eb0",
   "metadata": {
    "execution": {
     "iopub.execute_input": "2021-08-31T15:11:31.176857Z",
     "iopub.status.busy": "2021-08-31T15:11:31.173105Z",
     "iopub.status.idle": "2021-08-31T15:11:31.327720Z",
     "shell.execute_reply": "2021-08-31T15:11:31.327077Z",
     "shell.execute_reply.started": "2021-08-31T15:10:31.218379Z"
    },
    "papermill": {
     "duration": 0.211301,
     "end_time": "2021-08-31T15:11:31.327862",
     "exception": false,
     "start_time": "2021-08-31T15:11:31.116561",
     "status": "completed"
    },
    "tags": []
   },
   "outputs": [
    {
     "data": {
      "image/png": "[encoded data removed]",
      "text/plain": [
       "<Figure size 1440x720 with 1 Axes>"
      ]
     },
     "metadata": {
      "needs_background": "light"
     },
     "output_type": "display_data"
    }
   ],
   "source": [
    "sns.countplot(data= clean_df, x = \"sentiment\")\n",
    "plt.show()"
   ]
  },
  {
   "cell_type": "markdown",
   "id": "140bd638",
   "metadata": {
    "papermill": {
     "duration": 0.046381,
     "end_time": "2021-08-31T15:11:31.420575",
     "exception": false,
     "start_time": "2021-08-31T15:11:31.374194",
     "status": "completed"
    },
    "tags": []
   },
   "source": [
    "# Split Data"
   ]
  },
  {
   "cell_type": "code",
   "execution_count": 21,
   "id": "81462c4b",
   "metadata": {
    "execution": {
     "iopub.execute_input": "2021-08-31T15:11:31.522659Z",
     "iopub.status.busy": "2021-08-31T15:11:31.521876Z",
     "iopub.status.idle": "2021-08-31T15:11:31.525081Z",
     "shell.execute_reply": "2021-08-31T15:11:31.524534Z",
     "shell.execute_reply.started": "2021-08-31T15:10:31.354232Z"
    },
    "papermill": {
     "duration": 0.057874,
     "end_time": "2021-08-31T15:11:31.525225",
     "exception": false,
     "start_time": "2021-08-31T15:11:31.467351",
     "status": "completed"
    },
    "tags": []
   },
   "outputs": [],
   "source": [
    "y = clean_df['sentiment']\n",
    "X = clean_df['tweet']\n",
    "\n",
    "X_train, X_test, y_train, y_test = train_test_split(X, y, test_size=0.25, random_state=2)"
   ]
  },
  {
   "cell_type": "markdown",
   "id": "355ddb8f",
   "metadata": {
    "papermill": {
     "duration": 0.046361,
     "end_time": "2021-08-31T15:11:31.619510",
     "exception": false,
     "start_time": "2021-08-31T15:11:31.573149",
     "status": "completed"
    },
    "tags": []
   },
   "source": [
    "# Feature Extraction"
   ]
  },
  {
   "cell_type": "code",
   "execution_count": 22,
   "id": "315626fa",
   "metadata": {
    "execution": {
     "iopub.execute_input": "2021-08-31T15:11:31.718501Z",
     "iopub.status.busy": "2021-08-31T15:11:31.717572Z",
     "iopub.status.idle": "2021-08-31T15:11:31.721151Z",
     "shell.execute_reply": "2021-08-31T15:11:31.720471Z",
     "shell.execute_reply.started": "2021-08-31T15:10:31.362220Z"
    },
    "papermill": {
     "duration": 0.054937,
     "end_time": "2021-08-31T15:11:31.721301",
     "exception": false,
     "start_time": "2021-08-31T15:11:31.666364",
     "status": "completed"
    },
    "tags": []
   },
   "outputs": [],
   "source": [
    "word_vectorizer = TfidfVectorizer(\n",
    "    sublinear_tf=True,\n",
    "    strip_accents='unicode',\n",
    "    analyzer='word',\n",
    "    ngram_range=(1, 1),\n",
    "    max_features =10000)"
   ]
  },
  {
   "cell_type": "markdown",
   "id": "26257943",
   "metadata": {
    "papermill": {
     "duration": 0.045963,
     "end_time": "2021-08-31T15:11:31.813789",
     "exception": false,
     "start_time": "2021-08-31T15:11:31.767826",
     "status": "completed"
    },
    "tags": []
   },
   "source": [
    "# Fit The Pipeline To The Training Data"
   ]
  },
  {
   "cell_type": "code",
   "execution_count": 23,
   "id": "a48147e9",
   "metadata": {
    "execution": {
     "iopub.execute_input": "2021-08-31T15:11:31.942241Z",
     "iopub.status.busy": "2021-08-31T15:11:31.926468Z",
     "iopub.status.idle": "2021-08-31T15:11:33.285309Z",
     "shell.execute_reply": "2021-08-31T15:11:33.285815Z",
     "shell.execute_reply.started": "2021-08-31T15:10:31.374551Z"
    },
    "papermill": {
     "duration": 1.425663,
     "end_time": "2021-08-31T15:11:33.286006",
     "exception": false,
     "start_time": "2021-08-31T15:11:31.860343",
     "status": "completed"
    },
    "tags": []
   },
   "outputs": [
    {
     "data": {
      "text/plain": [
       "Pipeline(steps=[('tfidf',\n",
       "                 TfidfVectorizer(max_features=10000, strip_accents='unicode',\n",
       "                                 sublinear_tf=True)),\n",
       "                ('clf', SVC())])"
      ]
     },
     "execution_count": 23,
     "metadata": {},
     "output_type": "execute_result"
    }
   ],
   "source": [
    "\n",
    "model = Pipeline([\n",
    "                    (\"tfidf\", word_vectorizer), # convert words to numbers using tfidf\n",
    "                    (\"clf\", SVC()) # model the text\n",
    "])\n",
    "\n",
    "# Fit the pipeline to the training data\n",
    "model.fit(X_train.astype('str'), y_train)"
   ]
  },
  {
   "cell_type": "code",
   "execution_count": 24,
   "id": "e3f226de",
   "metadata": {
    "execution": {
     "iopub.execute_input": "2021-08-31T15:11:33.390029Z",
     "iopub.status.busy": "2021-08-31T15:11:33.384134Z",
     "iopub.status.idle": "2021-08-31T15:11:33.768768Z",
     "shell.execute_reply": "2021-08-31T15:11:33.769274Z",
     "shell.execute_reply.started": "2021-08-31T15:10:32.554431Z"
    },
    "papermill": {
     "duration": 0.436872,
     "end_time": "2021-08-31T15:11:33.769473",
     "exception": false,
     "start_time": "2021-08-31T15:11:33.332601",
     "status": "completed"
    },
    "tags": []
   },
   "outputs": [
    {
     "data": {
      "text/plain": [
       "['svm_model.joblib']"
      ]
     },
     "execution_count": 24,
     "metadata": {},
     "output_type": "execute_result"
    }
   ],
   "source": [
    "dump(model, \"svm_model.joblib\")\n"
   ]
  },
  {
   "cell_type": "markdown",
   "id": "f5df0a39",
   "metadata": {
    "papermill": {
     "duration": 0.047021,
     "end_time": "2021-08-31T15:11:33.871586",
     "exception": false,
     "start_time": "2021-08-31T15:11:33.824565",
     "status": "completed"
    },
    "tags": []
   },
   "source": [
    "# Results"
   ]
  },
  {
   "cell_type": "code",
   "execution_count": 25,
   "id": "b8a6562c",
   "metadata": {
    "execution": {
     "iopub.execute_input": "2021-08-31T15:11:33.975055Z",
     "iopub.status.busy": "2021-08-31T15:11:33.974266Z",
     "iopub.status.idle": "2021-08-31T15:11:34.285105Z",
     "shell.execute_reply": "2021-08-31T15:11:34.285600Z",
     "shell.execute_reply.started": "2021-08-31T15:10:32.893549Z"
    },
    "papermill": {
     "duration": 0.367215,
     "end_time": "2021-08-31T15:11:34.285768",
     "exception": false,
     "start_time": "2021-08-31T15:11:33.918553",
     "status": "completed"
    },
    "tags": []
   },
   "outputs": [
    {
     "data": {
      "text/plain": [
       "{'accuracy': 59.475566150178786,\n",
       " 'precision': 0.638869220026472,\n",
       " 'recall': 0.5947556615017878,\n",
       " 'f1': 0.5642415994116097}"
      ]
     },
     "execution_count": 25,
     "metadata": {},
     "output_type": "execute_result"
    }
   ],
   "source": [
    "def calculate_results(y_true, y_pred):\n",
    "  # Calculate model accuracy\n",
    "  model_accuracy = accuracy_score(y_true, y_pred) * 100\n",
    "  # Calculate model precision, recall and f1 score using \"weighted\" average\n",
    "  model_precision, model_recall, model_f1, _ = precision_recall_fscore_support(y_true, y_pred, average=\"weighted\")\n",
    "  model_results = {\"accuracy\": model_accuracy,\n",
    "                  \"precision\": model_precision,\n",
    "                  \"recall\": model_recall,\n",
    "                  \"f1\": model_f1}\n",
    "  return model_results\n",
    "\n",
    "y_pred = model.predict(X_test.astype('str'))\n",
    "result = calculate_results(y_test, y_pred)\n",
    "result"
   ]
  },
  {
   "cell_type": "markdown",
   "id": "edbdeec2",
   "metadata": {
    "papermill": {
     "duration": 0.047341,
     "end_time": "2021-08-31T15:11:34.381012",
     "exception": false,
     "start_time": "2021-08-31T15:11:34.333671",
     "status": "completed"
    },
    "tags": []
   },
   "source": [
    "# Plot Confusion Matrix"
   ]
  },
  {
   "cell_type": "code",
   "execution_count": 26,
   "id": "99502a9f",
   "metadata": {
    "execution": {
     "iopub.execute_input": "2021-08-31T15:11:34.494369Z",
     "iopub.status.busy": "2021-08-31T15:11:34.493303Z",
     "iopub.status.idle": "2021-08-31T15:11:34.809194Z",
     "shell.execute_reply": "2021-08-31T15:11:34.809640Z",
     "shell.execute_reply.started": "2021-08-31T15:10:33.137520Z"
    },
    "papermill": {
     "duration": 0.380839,
     "end_time": "2021-08-31T15:11:34.809816",
     "exception": false,
     "start_time": "2021-08-31T15:11:34.428977",
     "status": "completed"
    },
    "tags": []
   },
   "outputs": [
    {
     "data": {
      "image/png": "[encoded data removed]",
      "text/plain": [
       "<Figure size 720x432 with 2 Axes>"
      ]
     },
     "metadata": {
      "needs_background": "light"
     },
     "output_type": "display_data"
    }
   ],
   "source": [
    "def plot_confusion_matrix(cm, classes,\n",
    "                          title='Confusion matrix',\n",
    "                          cmap=plt.cm.Blues):\n",
    "    fig = plt.figure(figsize = (10,6))\n",
    "    plt.imshow(cm, interpolation='nearest', cmap=cmap)\n",
    "    plt.title(title)\n",
    "    plt.colorbar()\n",
    "    tick_marks = np.arange(len(classes))\n",
    "    plt.xticks(tick_marks, classes, rotation=45)\n",
    "    plt.yticks(tick_marks, classes)\n",
    "\n",
    "    fmt = 'd' \n",
    "    thresh = cm.max() / 2.\n",
    "    for i, j in itertools.product(range(cm.shape[0]), range(cm.shape[1])):\n",
    "        plt.text(j, i, format(cm[i, j], fmt),\n",
    "                 fontsize=20,\n",
    "                 horizontalalignment=\"center\",\n",
    "                 color=\"white\" if cm[i, j] > thresh else \"black\")\n",
    "\n",
    "    plt.tight_layout()\n",
    "    plt.ylabel('True label', fontsize=20)\n",
    "    plt.xlabel('Predicted label', fontsize=20)\n",
    "\n",
    "cm = confusion_matrix(y_test, y_pred)\n",
    "plot_confusion_matrix(cm, ['positive', 'neutral', 'negative'])"
   ]
  },
  {
   "cell_type": "markdown",
   "id": "b05af4bf",
   "metadata": {
    "papermill": {
     "duration": 0.050473,
     "end_time": "2021-08-31T15:11:34.909363",
     "exception": false,
     "start_time": "2021-08-31T15:11:34.858890",
     "status": "completed"
    },
    "tags": []
   },
   "source": [
    "# Testing"
   ]
  },
  {
   "cell_type": "code",
   "execution_count": 27,
   "id": "6403780b",
   "metadata": {
    "execution": {
     "iopub.execute_input": "2021-08-31T15:11:35.009922Z",
     "iopub.status.busy": "2021-08-31T15:11:35.008905Z",
     "iopub.status.idle": "2021-08-31T15:11:35.022607Z",
     "shell.execute_reply": "2021-08-31T15:11:35.022084Z",
     "shell.execute_reply.started": "2021-08-31T15:10:33.368610Z"
    },
    "papermill": {
     "duration": 0.065302,
     "end_time": "2021-08-31T15:11:35.022752",
     "exception": false,
     "start_time": "2021-08-31T15:11:34.957450",
     "status": "completed"
    },
    "tags": []
   },
   "outputs": [
    {
     "data": {
      "text/html": [
       "<div>\n",
       "<style scoped>\n",
       "    .dataframe tbody tr th:only-of-type {\n",
       "        vertical-align: middle;\n",
       "    }\n",
       "\n",
       "    .dataframe tbody tr th {\n",
       "        vertical-align: top;\n",
       "    }\n",
       "\n",
       "    .dataframe thead th {\n",
       "        text-align: right;\n",
       "    }\n",
       "</style>\n",
       "<table border=\"1\" class=\"dataframe\">\n",
       "  <thead>\n",
       "    <tr style=\"text-align: right;\">\n",
       "      <th></th>\n",
       "      <th>sentiment</th>\n",
       "      <th>tweet</th>\n",
       "    </tr>\n",
       "  </thead>\n",
       "  <tbody>\n",
       "    <tr>\n",
       "      <th>0</th>\n",
       "      <td>positive</td>\n",
       "      <td>@Alito_NBA جواب ذكي 😂</td>\n",
       "    </tr>\n",
       "    <tr>\n",
       "      <th>1</th>\n",
       "      <td>neutral</td>\n",
       "      <td>@its_NBA @ssrg90 كلام سليم</td>\n",
       "    </tr>\n",
       "    <tr>\n",
       "      <th>2</th>\n",
       "      <td>negative</td>\n",
       "      <td>@nba_155 ياخزياه بس صارخت صراخ وازعجتكم مشكلة ...</td>\n",
       "    </tr>\n",
       "    <tr>\n",
       "      <th>3</th>\n",
       "      <td>neutral</td>\n",
       "      <td>@nba_155 صوتي راح اقولك 💔</td>\n",
       "    </tr>\n",
       "    <tr>\n",
       "      <th>4</th>\n",
       "      <td>negative</td>\n",
       "      <td>@Alito_NBA انا ماخفت من شي الا ان يكون عقلية م...</td>\n",
       "    </tr>\n",
       "    <tr>\n",
       "      <th>...</th>\n",
       "      <td>...</td>\n",
       "      <td>...</td>\n",
       "    </tr>\n",
       "    <tr>\n",
       "      <th>6093</th>\n",
       "      <td>neutral</td>\n",
       "      <td>تقول نوال الزغبي : https://t.co/BozQHk3pJU</td>\n",
       "    </tr>\n",
       "    <tr>\n",
       "      <th>6094</th>\n",
       "      <td>positive</td>\n",
       "      <td>سيلفي للفنانة 👇الذهبية #نوال_الزغبي @NawalElZo...</td>\n",
       "    </tr>\n",
       "    <tr>\n",
       "      <th>6095</th>\n",
       "      <td>positive</td>\n",
       "      <td>فنانة لبنانية كبيرة  صوتها إسطوري ؟! #ماجدة_ال...</td>\n",
       "    </tr>\n",
       "    <tr>\n",
       "      <th>6096</th>\n",
       "      <td>positive</td>\n",
       "      <td>@i_7md تذكرني بأغنية نوال الزغبي عينيك كدابين\"\"</td>\n",
       "    </tr>\n",
       "    <tr>\n",
       "      <th>6097</th>\n",
       "      <td>positive</td>\n",
       "      <td>نوال الزغبي لطيفه الفنانه الوحيده اللي كل الفي...</td>\n",
       "    </tr>\n",
       "  </tbody>\n",
       "</table>\n",
       "<p>6098 rows × 2 columns</p>\n",
       "</div>"
      ],
      "text/plain": [
       "     sentiment                                              tweet\n",
       "0     positive                              @Alito_NBA جواب ذكي 😂\n",
       "1      neutral                         @its_NBA @ssrg90 كلام سليم\n",
       "2     negative  @nba_155 ياخزياه بس صارخت صراخ وازعجتكم مشكلة ...\n",
       "3      neutral                          @nba_155 صوتي راح اقولك 💔\n",
       "4     negative  @Alito_NBA انا ماخفت من شي الا ان يكون عقلية م...\n",
       "...        ...                                                ...\n",
       "6093   neutral         تقول نوال الزغبي : https://t.co/BozQHk3pJU\n",
       "6094  positive  سيلفي للفنانة 👇الذهبية #نوال_الزغبي @NawalElZo...\n",
       "6095  positive  فنانة لبنانية كبيرة  صوتها إسطوري ؟! #ماجدة_ال...\n",
       "6096  positive    @i_7md تذكرني بأغنية نوال الزغبي عينيك كدابين\"\"\n",
       "6097  positive  نوال الزغبي لطيفه الفنانه الوحيده اللي كل الفي...\n",
       "\n",
       "[6098 rows x 2 columns]"
      ]
     },
     "execution_count": 27,
     "metadata": {},
     "output_type": "execute_result"
    }
   ],
   "source": [
    "df =dataTest\n",
    "df"
   ]
  },
  {
   "cell_type": "code",
   "execution_count": 28,
   "id": "8dd7346c",
   "metadata": {
    "execution": {
     "iopub.execute_input": "2021-08-31T15:11:35.164578Z",
     "iopub.status.busy": "2021-08-31T15:11:35.143140Z",
     "iopub.status.idle": "2021-08-31T15:11:36.063111Z",
     "shell.execute_reply": "2021-08-31T15:11:36.062489Z",
     "shell.execute_reply.started": "2021-08-31T15:10:33.381642Z"
    },
    "papermill": {
     "duration": 0.991196,
     "end_time": "2021-08-31T15:11:36.063245",
     "exception": false,
     "start_time": "2021-08-31T15:11:35.072049",
     "status": "completed"
    },
    "tags": []
   },
   "outputs": [
    {
     "data": {
      "text/html": [
       "<div>\n",
       "<style scoped>\n",
       "    .dataframe tbody tr th:only-of-type {\n",
       "        vertical-align: middle;\n",
       "    }\n",
       "\n",
       "    .dataframe tbody tr th {\n",
       "        vertical-align: top;\n",
       "    }\n",
       "\n",
       "    .dataframe thead th {\n",
       "        text-align: right;\n",
       "    }\n",
       "</style>\n",
       "<table border=\"1\" class=\"dataframe\">\n",
       "  <thead>\n",
       "    <tr style=\"text-align: right;\">\n",
       "      <th></th>\n",
       "      <th>sentiment</th>\n",
       "      <th>tweet</th>\n",
       "    </tr>\n",
       "  </thead>\n",
       "  <tbody>\n",
       "    <tr>\n",
       "      <th>0</th>\n",
       "      <td>positive</td>\n",
       "      <td>[جواب, ذكي]</td>\n",
       "    </tr>\n",
       "    <tr>\n",
       "      <th>1</th>\n",
       "      <td>neutral</td>\n",
       "      <td>[كلام, سليم]</td>\n",
       "    </tr>\n",
       "    <tr>\n",
       "      <th>2</th>\n",
       "      <td>negative</td>\n",
       "      <td>[ياخزياه, صارخت, صراخ, وازعجتكم, مشكله, التوقي...</td>\n",
       "    </tr>\n",
       "    <tr>\n",
       "      <th>3</th>\n",
       "      <td>neutral</td>\n",
       "      <td>[صوتي, راح, اقولك]</td>\n",
       "    </tr>\n",
       "    <tr>\n",
       "      <th>4</th>\n",
       "      <td>negative</td>\n",
       "      <td>[انا, ماخفت, شي, الا, ان, يكون, عقليه, مشجعي, ...</td>\n",
       "    </tr>\n",
       "    <tr>\n",
       "      <th>...</th>\n",
       "      <td>...</td>\n",
       "      <td>...</td>\n",
       "    </tr>\n",
       "    <tr>\n",
       "      <th>6093</th>\n",
       "      <td>neutral</td>\n",
       "      <td>[تقول, نوال, الزغبي]</td>\n",
       "    </tr>\n",
       "    <tr>\n",
       "      <th>6094</th>\n",
       "      <td>positive</td>\n",
       "      <td>[سيلفي, لفنانه, الذهبيه, نوال, الزغبي, باطلاله...</td>\n",
       "    </tr>\n",
       "    <tr>\n",
       "      <th>6095</th>\n",
       "      <td>positive</td>\n",
       "      <td>[فنانه, لبنانيه, كبيره, صوتها, اسطوري, ماجده, ...</td>\n",
       "    </tr>\n",
       "    <tr>\n",
       "      <th>6096</th>\n",
       "      <td>positive</td>\n",
       "      <td>[تذكرني, باغنيه, نوال, الزغبي, عينيك, كداب]</td>\n",
       "    </tr>\n",
       "    <tr>\n",
       "      <th>6097</th>\n",
       "      <td>positive</td>\n",
       "      <td>[نوال, الزغبي, لطيفه, الفنانه, الوحيده, الي, ا...</td>\n",
       "    </tr>\n",
       "  </tbody>\n",
       "</table>\n",
       "<p>6098 rows × 2 columns</p>\n",
       "</div>"
      ],
      "text/plain": [
       "     sentiment                                              tweet\n",
       "0     positive                                        [جواب, ذكي]\n",
       "1      neutral                                       [كلام, سليم]\n",
       "2     negative  [ياخزياه, صارخت, صراخ, وازعجتكم, مشكله, التوقي...\n",
       "3      neutral                                 [صوتي, راح, اقولك]\n",
       "4     negative  [انا, ماخفت, شي, الا, ان, يكون, عقليه, مشجعي, ...\n",
       "...        ...                                                ...\n",
       "6093   neutral                               [تقول, نوال, الزغبي]\n",
       "6094  positive  [سيلفي, لفنانه, الذهبيه, نوال, الزغبي, باطلاله...\n",
       "6095  positive  [فنانه, لبنانيه, كبيره, صوتها, اسطوري, ماجده, ...\n",
       "6096  positive        [تذكرني, باغنيه, نوال, الزغبي, عينيك, كداب]\n",
       "6097  positive  [نوال, الزغبي, لطيفه, الفنانه, الوحيده, الي, ا...\n",
       "\n",
       "[6098 rows x 2 columns]"
      ]
     },
     "execution_count": 28,
     "metadata": {},
     "output_type": "execute_result"
    }
   ],
   "source": [
    "def prepareData(df):\n",
    "    remove_hashtag(df, 'tweet')\n",
    "    df[\"tweet\"] = df['tweet'].apply(lambda x: processDocument(x, stemmer))\n",
    "    tokenizer = RegexpTokenizer(r'\\w+')\n",
    "    df[\"tweet\"] = df[\"tweet\"].apply(tokenizer.tokenize)\n",
    "    stopwords_list = stopwords.words('arabic')\n",
    "    df[\"tweet\"] = df[\"tweet\"].apply(lambda x: [item for item in x if item not in stopwords_list])\n",
    "    return df\n",
    "\n",
    "prepared_df = prepareData(df)\n",
    "prepared_df"
   ]
  },
  {
   "cell_type": "markdown",
   "id": "a77a6bd8",
   "metadata": {
    "papermill": {
     "duration": 0.048947,
     "end_time": "2021-08-31T15:11:36.161526",
     "exception": false,
     "start_time": "2021-08-31T15:11:36.112579",
     "status": "completed"
    },
    "tags": []
   },
   "source": [
    "# Loading Model"
   ]
  },
  {
   "cell_type": "code",
   "execution_count": 29,
   "id": "7d221eb9",
   "metadata": {
    "execution": {
     "iopub.execute_input": "2021-08-31T15:11:36.265965Z",
     "iopub.status.busy": "2021-08-31T15:11:36.264933Z",
     "iopub.status.idle": "2021-08-31T15:11:36.460803Z",
     "shell.execute_reply": "2021-08-31T15:11:36.460269Z",
     "shell.execute_reply.started": "2021-08-31T15:10:34.201467Z"
    },
    "papermill": {
     "duration": 0.249889,
     "end_time": "2021-08-31T15:11:36.460988",
     "exception": false,
     "start_time": "2021-08-31T15:11:36.211099",
     "status": "completed"
    },
    "tags": []
   },
   "outputs": [],
   "source": [
    "model = load(\"./svm_model.joblib\")\n"
   ]
  },
  {
   "cell_type": "markdown",
   "id": "66a869c8",
   "metadata": {
    "papermill": {
     "duration": 0.04901,
     "end_time": "2021-08-31T15:11:36.559407",
     "exception": false,
     "start_time": "2021-08-31T15:11:36.510397",
     "status": "completed"
    },
    "tags": []
   },
   "source": [
    "# Predict"
   ]
  },
  {
   "cell_type": "code",
   "execution_count": 30,
   "id": "3ba45ff3",
   "metadata": {
    "execution": {
     "iopub.execute_input": "2021-08-31T15:11:36.690352Z",
     "iopub.status.busy": "2021-08-31T15:11:36.685384Z",
     "iopub.status.idle": "2021-08-31T15:11:38.672512Z",
     "shell.execute_reply": "2021-08-31T15:11:38.671872Z",
     "shell.execute_reply.started": "2021-08-31T15:10:34.383946Z"
    },
    "papermill": {
     "duration": 2.062979,
     "end_time": "2021-08-31T15:11:38.672649",
     "exception": false,
     "start_time": "2021-08-31T15:11:36.609670",
     "status": "completed"
    },
    "tags": []
   },
   "outputs": [
    {
     "name": "stderr",
     "output_type": "stream",
     "text": [
      "/opt/conda/lib/python3.7/site-packages/ipykernel_launcher.py:4: UserWarning: FixedFormatter should only be used together with FixedLocator\n",
      "  after removing the cwd from sys.path.\n"
     ]
    },
    {
     "data": {
      "text/plain": [
       "[Text(0, 0, '1'), Text(1, 0, '0'), Text(2, 0, '-1')]"
      ]
     },
     "execution_count": 30,
     "metadata": {},
     "output_type": "execute_result"
    },
    {
     "data": {
      "image/png": "[encoded data removed]",
      "text/plain": [
       "<Figure size 1440x720 with 1 Axes>"
      ]
     },
     "metadata": {
      "needs_background": "light"
     },
     "output_type": "display_data"
    }
   ],
   "source": [
    "y_pred = model.predict(prepared_df[\"tweet\"].astype('str'))\n",
    "\n",
    "ax = sns.histplot(y_pred, discrete=True)\n",
    "ax.set_xticklabels([\"1\", \"0\", \"-1\"])"
   ]
  },
  {
   "cell_type": "code",
   "execution_count": 31,
   "id": "5f3ee4e0",
   "metadata": {
    "execution": {
     "iopub.execute_input": "2021-08-31T15:11:38.782699Z",
     "iopub.status.busy": "2021-08-31T15:11:38.781983Z",
     "iopub.status.idle": "2021-08-31T15:11:38.784921Z",
     "shell.execute_reply": "2021-08-31T15:11:38.784285Z",
     "shell.execute_reply.started": "2021-08-31T15:10:36.146852Z"
    },
    "papermill": {
     "duration": 0.060691,
     "end_time": "2021-08-31T15:11:38.785083",
     "exception": false,
     "start_time": "2021-08-31T15:11:38.724392",
     "status": "completed"
    },
    "tags": []
   },
   "outputs": [],
   "source": [
    "y_positive = y_pred[y_pred == '1']\n",
    "y_neutral = y_pred[y_pred == '0']\n",
    "y_negative = y_pred[y_pred == '-1']\n"
   ]
  },
  {
   "cell_type": "code",
   "execution_count": 32,
   "id": "e2a4d645",
   "metadata": {
    "execution": {
     "iopub.execute_input": "2021-08-31T15:11:38.903953Z",
     "iopub.status.busy": "2021-08-31T15:11:38.902993Z",
     "iopub.status.idle": "2021-08-31T15:11:38.907709Z",
     "shell.execute_reply": "2021-08-31T15:11:38.907172Z",
     "shell.execute_reply.started": "2021-08-31T15:10:36.154755Z"
    },
    "papermill": {
     "duration": 0.070855,
     "end_time": "2021-08-31T15:11:38.907845",
     "exception": false,
     "start_time": "2021-08-31T15:11:38.836990",
     "status": "completed"
    },
    "tags": []
   },
   "outputs": [
    {
     "data": {
      "text/html": [
       "<div>\n",
       "<style scoped>\n",
       "    .dataframe tbody tr th:only-of-type {\n",
       "        vertical-align: middle;\n",
       "    }\n",
       "\n",
       "    .dataframe tbody tr th {\n",
       "        vertical-align: top;\n",
       "    }\n",
       "\n",
       "    .dataframe thead th {\n",
       "        text-align: right;\n",
       "    }\n",
       "</style>\n",
       "<table border=\"1\" class=\"dataframe\">\n",
       "  <thead>\n",
       "    <tr style=\"text-align: right;\">\n",
       "      <th></th>\n",
       "      <th>label</th>\n",
       "      <th>count</th>\n",
       "      <th>percentage</th>\n",
       "    </tr>\n",
       "  </thead>\n",
       "  <tbody>\n",
       "    <tr>\n",
       "      <th>0</th>\n",
       "      <td>1</td>\n",
       "      <td>56</td>\n",
       "      <td>0.918334</td>\n",
       "    </tr>\n",
       "    <tr>\n",
       "      <th>1</th>\n",
       "      <td>0</td>\n",
       "      <td>4208</td>\n",
       "      <td>69.006232</td>\n",
       "    </tr>\n",
       "    <tr>\n",
       "      <th>2</th>\n",
       "      <td>-1</td>\n",
       "      <td>1834</td>\n",
       "      <td>30.075435</td>\n",
       "    </tr>\n",
       "  </tbody>\n",
       "</table>\n",
       "</div>"
      ],
      "text/plain": [
       "  label  count  percentage\n",
       "0     1     56    0.918334\n",
       "1     0   4208   69.006232\n",
       "2    -1   1834   30.075435"
      ]
     },
     "execution_count": 32,
     "metadata": {},
     "output_type": "execute_result"
    }
   ],
   "source": [
    "table = {\n",
    "    \"label\" : [\"1\", \"0\", \"-1\"],\n",
    "    \"count\" : [len(y_positive), len(y_neutral), len(y_negative)],\n",
    "    \"percentage\" : [(len(y_positive) / len(y_pred)) * 100,\n",
    "                    (len(y_neutral) / len(y_pred)) * 100,\n",
    "                    (len(y_negative) / len(y_pred)) * 100,\n",
    "                    ]\n",
    "}\n",
    "\n",
    "stat = pd.DataFrame(table)\n",
    "stat\n"
   ]
  },
  {
   "cell_type": "code",
   "execution_count": 33,
   "id": "cc6de13e",
   "metadata": {
    "execution": {
     "iopub.execute_input": "2021-08-31T15:11:39.025132Z",
     "iopub.status.busy": "2021-08-31T15:11:39.019820Z",
     "iopub.status.idle": "2021-08-31T15:11:39.028380Z",
     "shell.execute_reply": "2021-08-31T15:11:39.027694Z",
     "shell.execute_reply.started": "2021-08-31T15:10:36.173066Z"
    },
    "papermill": {
     "duration": 0.068745,
     "end_time": "2021-08-31T15:11:39.028532",
     "exception": false,
     "start_time": "2021-08-31T15:11:38.959787",
     "status": "completed"
    },
    "tags": []
   },
   "outputs": [],
   "source": [
    "result = [[], [], []]\n",
    "for i in range(2):\n",
    "    for index in range(len(y_pred)):\n",
    "        if y_pred[index] == '1':\n",
    "            result[0].append(index)\n",
    "        elif y_pred[index] == '0':\n",
    "            result[1].append(index)\n",
    "        elif y_pred[index] == '-1':\n",
    "            result[2].append(index)\n",
    "       "
   ]
  },
  {
   "cell_type": "markdown",
   "id": "a4446843",
   "metadata": {
    "papermill": {
     "duration": 0.052006,
     "end_time": "2021-08-31T15:11:39.133309",
     "exception": false,
     "start_time": "2021-08-31T15:11:39.081303",
     "status": "completed"
    },
    "tags": []
   },
   "source": [
    "# Testing"
   ]
  },
  {
   "cell_type": "code",
   "execution_count": 34,
   "id": "98d14317",
   "metadata": {
    "execution": {
     "iopub.execute_input": "2021-08-31T15:11:39.244452Z",
     "iopub.status.busy": "2021-08-31T15:11:39.243602Z",
     "iopub.status.idle": "2021-08-31T15:11:39.247738Z",
     "shell.execute_reply": "2021-08-31T15:11:39.247129Z",
     "shell.execute_reply.started": "2021-08-31T15:10:36.186782Z"
    },
    "papermill": {
     "duration": 0.062256,
     "end_time": "2021-08-31T15:11:39.247890",
     "exception": false,
     "start_time": "2021-08-31T15:11:39.185634",
     "status": "completed"
    },
    "tags": []
   },
   "outputs": [
    {
     "name": "stdout",
     "output_type": "stream",
     "text": [
      "1 :\n",
      "['بنغازيالبيضاءاجتماع', 'مصالحه', 'وتوافق', 'قوتان', 'عكسيتان', 'لحظات', 'ونجحت', 'المصالحهبارك', 'اله', 'الاشخاص', 'وفقوا', 'المتخاصمين']\n",
      "\n",
      "\n",
      "0 :\n",
      "['مباراه', 'القادمه', 'كاس', 'العالم', 'لانديه', 'ريال', 'مدريد', 'كلوب', 'امريكا', 'الخميس', 'ديسمبر', 'ظهرا', 'بتوقيت', 'مكه', 'حفيظ', 'ال']\n",
      "\n",
      "\n",
      "-1 :\n",
      "['مصر', 'تهزم', 'الولايات', 'المتحده', 'وتاهل', 'لنصف', 'نهائي', 'بطوله', 'العالم', 'لسيدات', 'الاسكواش', 'المقامه', 'باريسالعربيه', 'تويتر', 'تهد', 'بحظر', 'حساب', 'ترامب', 'اذا', 'انتهك', 'قواعد', 'شبكتها', 'الاجتماعيه', 'التحرش', 'المهاجرين', 'الولايات', 'المتحده']\n",
      "\n",
      "\n"
     ]
    }
   ],
   "source": [
    "for i in range(3):\n",
    "    print(table[\"label\"][i] + \" :\\n\" + str(df.iloc[random.choice(result[i])][\"tweet\"]) + \"\\n\\n\")"
   ]
  },
  {
   "cell_type": "code",
   "execution_count": 35,
   "id": "30c12dc3",
   "metadata": {
    "execution": {
     "iopub.execute_input": "2021-08-31T15:11:39.356439Z",
     "iopub.status.busy": "2021-08-31T15:11:39.355719Z",
     "iopub.status.idle": "2021-08-31T15:11:39.363229Z",
     "shell.execute_reply": "2021-08-31T15:11:39.362585Z",
     "shell.execute_reply.started": "2021-08-31T15:10:36.198648Z"
    },
    "papermill": {
     "duration": 0.063923,
     "end_time": "2021-08-31T15:11:39.363372",
     "exception": false,
     "start_time": "2021-08-31T15:11:39.299449",
     "status": "completed"
    },
    "tags": []
   },
   "outputs": [
    {
     "data": {
      "text/plain": [
       "array(['1'], dtype=object)"
      ]
     },
     "execution_count": 35,
     "metadata": {},
     "output_type": "execute_result"
    }
   ],
   "source": [
    "y_pred = model.predict([\"حلوه\"])\n",
    "y_pred"
   ]
  },
  {
   "cell_type": "code",
   "execution_count": null,
   "id": "dcd35049",
   "metadata": {
    "papermill": {
     "duration": 0.05165,
     "end_time": "2021-08-31T15:11:39.467217",
     "exception": false,
     "start_time": "2021-08-31T15:11:39.415567",
     "status": "completed"
    },
    "tags": []
   },
   "outputs": [],
   "source": []
  }
 ],
 "metadata": {
  "kernelspec": {
   "display_name": "Python 3",
   "language": "python",
   "name": "python3"
  },
  "language_info": {
   "codemirror_mode": {
    "name": "ipython",
    "version": 3
   },
   "file_extension": ".py",
   "mimetype": "text/x-python",
   "name": "python",
   "nbconvert_exporter": "python",
   "pygments_lexer": "ipython3",
   "version": "3.7.10"
  },
  "papermill": {
   "default_parameters": {},
   "duration": 23.66101,
   "end_time": "2021-08-31T15:11:40.429047",
   "environment_variables": {},
   "exception": null,
   "input_path": "__notebook__.ipynb",
   "output_path": "__notebook__.ipynb",
   "parameters": {},
   "start_time": "2021-08-31T15:11:16.768037",
   "version": "2.3.3"
  }
 },
 "nbformat": 4,
 "nbformat_minor": 5
}
